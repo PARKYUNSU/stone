{
 "cells": [
  {
   "cell_type": "code",
   "execution_count": null,
   "id": "53edf3bb",
   "metadata": {
    "vscode": {
     "languageId": "plaintext"
    }
   },
   "outputs": [],
   "source": [
    "!wget https://huggingface.co/google/vit-base-patch16-224-in21k/resolve/main/pytorch_model.bin -O /content/sample_data/vit_base_patch16_224_in21k.pth"
   ]
  },
  {
   "cell_type": "code",
   "execution_count": null,
   "id": "11998ab8",
   "metadata": {
    "vscode": {
     "languageId": "plaintext"
    }
   },
   "outputs": [],
   "source": [
    "!pip install ml-collections"
   ]
  },
  {
   "cell_type": "code",
   "execution_count": null,
   "id": "95746df5",
   "metadata": {
    "vscode": {
     "languageId": "plaintext"
    }
   },
   "outputs": [],
   "source": [
    "!python /kaggle/working/stone/main.py \\\n",
    "  --mode train \\\n",
    "  --pretrained_path /content/sample_data/vit_base_patch16_224_in21k.pth \\\n",
    "  --data_dir /kaggle/input/stone2025/open/train \\\n",
    "  --img_size 224 \\\n",
    "  --batch_size 32 \\\n",
    "  --epochs 10 \\\n",
    "  --learning_rate 1e-4 \\\n",
    "  --weight_decay 1e-4 \\\n",
    "  --label_smoothing 0.1 \\\n",
    "  --save_fig\n"
   ]
  }
 ],
 "metadata": {
  "language_info": {
   "name": "python"
  }
 },
 "nbformat": 4,
 "nbformat_minor": 5
}
